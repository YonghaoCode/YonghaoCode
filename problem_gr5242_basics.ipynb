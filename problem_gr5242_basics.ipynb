{
  "cells": [
    {
      "cell_type": "markdown",
      "metadata": {
        "id": "view-in-github",
        "colab_type": "text"
      },
      "source": [
        "<a href=\"https://colab.research.google.com/github/YonghaoCode/YonghaoCode/blob/main/problem_gr5242_basics.ipynb\" target=\"_parent\"><img src=\"https://colab.research.google.com/assets/colab-badge.svg\" alt=\"Open In Colab\"/></a>"
      ]
    },
    {
      "cell_type": "markdown",
      "metadata": {
        "id": "tFg0q5Uxfr3a"
      },
      "source": [
        "# **GR5242 HW01 Problem 1: Basics**\n",
        "\n",
        "**Instructions**: This problem is an individual assignment -- you are to complete this problem on your own, without conferring with your classmates.  You should submit a completed and published notebook to Courseworks; no other files will be accepted.\n",
        "\n",
        "**Description**: The goal of this problem is to get your familiar with neural network training from end to end.\n",
        "\n",
        "Our main tool is `torch`, especially [`torch.nn`](https://pytorch.org/docs/stable/nn.html) and [`torch.optim`](https://pytorch.org/docs/stable/optim.html), that helps us with model building and automatic differentiation / backpropagation.\n",
        "\n",
        "There are 4 questions in this notebook, including 3 coding quesitons and 1 text question. Each coding question expects 1~3 lines of codes, and the text question expects just 1 sentence of explanation."
      ]
    },
    {
      "cell_type": "code",
      "execution_count": 1,
      "metadata": {
        "colab": {
          "base_uri": "https://localhost:8080/",
          "height": 0
        },
        "id": "PbF3-OFyFTG_",
        "outputId": "2d50e198-f839-4ce0-8f11-9c20c3d1cd3a",
        "tags": []
      },
      "outputs": [
        {
          "output_type": "stream",
          "name": "stdout",
          "text": [
            "2.5.0+cu121\n"
          ]
        }
      ],
      "source": [
        "# PyTorch imports:\n",
        "#\n",
        "# torch is the base package, nn gives nice classes for Neural Networks,\n",
        "# F contains our ReLU function, optim gives our SG method,\n",
        "# DataLoader allows us to do batches efficiently,\n",
        "# and torchvision is for downloading MNIST data directly from PyTorch\n",
        "import torch\n",
        "from torch import nn\n",
        "from torch.nn import functional as F\n",
        "import torch.optim as optim\n",
        "from torch.utils.data import DataLoader\n",
        "import torchvision.transforms as transforms\n",
        "import torchvision.datasets as datasets\n",
        "\n",
        "# Helper libraries\n",
        "import numpy as np\n",
        "import matplotlib.pyplot as plt\n",
        "\n",
        "print(torch.__version__)"
      ]
    },
    {
      "cell_type": "markdown",
      "metadata": {
        "id": "3lxOoXP0jDLr"
      },
      "source": [
        "## Dataset\n",
        "\n",
        "We will working on `mnist` dataset, which contain images of written digits of 0-9 and corresponding labels.\n",
        "\n",
        "We have it set up to download the data directly from the `torch` library."
      ]
    },
    {
      "cell_type": "code",
      "execution_count": 2,
      "metadata": {
        "colab": {
          "base_uri": "https://localhost:8080/",
          "height": 0
        },
        "id": "cjY9zAOOhIQo",
        "outputId": "9523b312-7d75-45eb-9133-00a17afb9a3f",
        "tags": []
      },
      "outputs": [
        {
          "output_type": "stream",
          "name": "stdout",
          "text": [
            "Downloading http://yann.lecun.com/exdb/mnist/train-images-idx3-ubyte.gz\n",
            "Failed to download (trying next):\n",
            "HTTP Error 403: Forbidden\n",
            "\n",
            "Downloading https://ossci-datasets.s3.amazonaws.com/mnist/train-images-idx3-ubyte.gz\n",
            "Downloading https://ossci-datasets.s3.amazonaws.com/mnist/train-images-idx3-ubyte.gz to ./data/MNIST/raw/train-images-idx3-ubyte.gz\n"
          ]
        },
        {
          "output_type": "stream",
          "name": "stderr",
          "text": [
            "100%|██████████| 9.91M/9.91M [00:00<00:00, 17.6MB/s]\n"
          ]
        },
        {
          "output_type": "stream",
          "name": "stdout",
          "text": [
            "Extracting ./data/MNIST/raw/train-images-idx3-ubyte.gz to ./data/MNIST/raw\n",
            "\n",
            "Downloading http://yann.lecun.com/exdb/mnist/train-labels-idx1-ubyte.gz\n",
            "Failed to download (trying next):\n",
            "HTTP Error 403: Forbidden\n",
            "\n",
            "Downloading https://ossci-datasets.s3.amazonaws.com/mnist/train-labels-idx1-ubyte.gz\n",
            "Downloading https://ossci-datasets.s3.amazonaws.com/mnist/train-labels-idx1-ubyte.gz to ./data/MNIST/raw/train-labels-idx1-ubyte.gz\n"
          ]
        },
        {
          "output_type": "stream",
          "name": "stderr",
          "text": [
            "100%|██████████| 28.9k/28.9k [00:00<00:00, 538kB/s]\n"
          ]
        },
        {
          "output_type": "stream",
          "name": "stdout",
          "text": [
            "Extracting ./data/MNIST/raw/train-labels-idx1-ubyte.gz to ./data/MNIST/raw\n",
            "\n",
            "Downloading http://yann.lecun.com/exdb/mnist/t10k-images-idx3-ubyte.gz\n",
            "Failed to download (trying next):\n",
            "HTTP Error 403: Forbidden\n",
            "\n",
            "Downloading https://ossci-datasets.s3.amazonaws.com/mnist/t10k-images-idx3-ubyte.gz\n",
            "Downloading https://ossci-datasets.s3.amazonaws.com/mnist/t10k-images-idx3-ubyte.gz to ./data/MNIST/raw/t10k-images-idx3-ubyte.gz\n"
          ]
        },
        {
          "output_type": "stream",
          "name": "stderr",
          "text": [
            "100%|██████████| 1.65M/1.65M [00:00<00:00, 4.77MB/s]\n"
          ]
        },
        {
          "output_type": "stream",
          "name": "stdout",
          "text": [
            "Extracting ./data/MNIST/raw/t10k-images-idx3-ubyte.gz to ./data/MNIST/raw\n",
            "\n",
            "Downloading http://yann.lecun.com/exdb/mnist/t10k-labels-idx1-ubyte.gz\n",
            "Failed to download (trying next):\n",
            "HTTP Error 403: Forbidden\n",
            "\n",
            "Downloading https://ossci-datasets.s3.amazonaws.com/mnist/t10k-labels-idx1-ubyte.gz\n",
            "Downloading https://ossci-datasets.s3.amazonaws.com/mnist/t10k-labels-idx1-ubyte.gz to ./data/MNIST/raw/t10k-labels-idx1-ubyte.gz\n"
          ]
        },
        {
          "output_type": "stream",
          "name": "stderr",
          "text": [
            "100%|██████████| 4.54k/4.54k [00:00<00:00, 2.72MB/s]"
          ]
        },
        {
          "output_type": "stream",
          "name": "stdout",
          "text": [
            "Extracting ./data/MNIST/raw/t10k-labels-idx1-ubyte.gz to ./data/MNIST/raw\n",
            "\n"
          ]
        },
        {
          "output_type": "stream",
          "name": "stderr",
          "text": [
            "\n"
          ]
        }
      ],
      "source": [
        "# First, we will define a way of transforming the dataset automatically\n",
        "# upon downloading from pytorch\n",
        "\n",
        "# first convert an image to a tensor and then scale its values to be between -1 and 1, which can be beneficial for training certain neural networks\n",
        "transform = transforms.Compose([transforms.ToTensor(),\n",
        "                                transforms.Normalize((0.5,), (0.5,)),])\n",
        "\n",
        "# Next, we fetch the data\n",
        "\n",
        "mnist_train = datasets.MNIST(root='./data', train=True,\n",
        "                             download=True, transform=transform)\n",
        "mnist_test  = datasets.MNIST(root='./data', train=False,\n",
        "                             download=True, transform=transform)\n",
        "\n",
        "# and define our DataLoaders\n",
        "\n",
        "train_loader = DataLoader(mnist_train, batch_size=32, shuffle=True)\n",
        "test_loader  = DataLoader(mnist_test,  batch_size=32, shuffle=True)"
      ]
    },
    {
      "cell_type": "markdown",
      "metadata": {
        "id": "U12vhTEAjVEh"
      },
      "source": [
        "Each image is represented as a 28x28 matrix of pixel values, and each label is the corresponding digit.\n",
        "\n",
        "Let's show an image of a random one! Try running the below cell a few times to see different examples and how the DataLoaders will be shuffling batches.\n",
        "\n",
        "Note: Why is this random, when there is no random code in the next cell? The randomness comes from `shuffle=True` in the `train_loader`!"
      ]
    },
    {
      "cell_type": "code",
      "execution_count": 3,
      "metadata": {
        "colab": {
          "base_uri": "https://localhost:8080/",
          "height": 452
        },
        "id": "upY8cssFhkbU",
        "outputId": "f128d0a9-7f77-4313-e3f9-1ae051f9237d",
        "tags": []
      },
      "outputs": [
        {
          "output_type": "display_data",
          "data": {
            "text/plain": [
              "<Figure size 640x480 with 1 Axes>"
            ],
            "image/png": "[encoded data removed]"
          },
          "metadata": {}
        }
      ],
      "source": [
        "inputs, classes = next(iter(train_loader))\n",
        "\n",
        "plt.imshow(inputs[23].squeeze())\n",
        "plt.title('Training label: '+str(classes[23].item()))\n",
        "plt.show()"
      ]
    },
    {
      "cell_type": "markdown",
      "metadata": {
        "id": "vklyKbJGktZW"
      },
      "source": [
        "Let's now show 25 of them in black and white:"
      ]
    },
    {
      "cell_type": "code",
      "execution_count": 4,
      "metadata": {
        "colab": {
          "base_uri": "https://localhost:8080/",
          "height": 826
        },
        "id": "al111BTQkmUf",
        "outputId": "30ced7d8-3373-4433-afda-862a20fcaa44",
        "tags": []
      },
      "outputs": [
        {
          "output_type": "display_data",
          "data": {
            "text/plain": [
              "<Figure size 1000x1000 with 25 Axes>"
            ],
            "image/png": "[encoded data removed]"
          },
          "metadata": {}
        }
      ],
      "source": [
        "plt.figure(figsize=(10,10))\n",
        "for i in range(25):\n",
        "    plt.subplot(5,5,i+1)\n",
        "    plt.xticks([])\n",
        "    plt.yticks([])\n",
        "    plt.grid(False)\n",
        "    plt.imshow(inputs[i].squeeze(), cmap=plt.cm.binary)\n",
        "    plt.xlabel(classes[i].item())\n",
        "plt.show()"
      ]
    },
    {
      "cell_type": "markdown",
      "metadata": {
        "id": "y8fu-vrLM6P9"
      },
      "source": [
        "By printing out the shapes, we see there are 60,000 training data and 10,000 test data. Each image is represented as a 28x28 matrix of pixel values, and each label is the corresponding digit."
      ]
    },
    {
      "cell_type": "code",
      "execution_count": 5,
      "metadata": {
        "colab": {
          "base_uri": "https://localhost:8080/",
          "height": 0
        },
        "id": "pktzl2TqMy7u",
        "outputId": "f6d4af69-cfe7-4a7f-8f9d-7bb9f93e8f2a"
      },
      "outputs": [
        {
          "output_type": "stream",
          "name": "stdout",
          "text": [
            "Shape of a single training image: torch.Size([1, 28, 28])\n",
            "Shape of a single test image: torch.Size([1, 28, 28])\n",
            "Total number of training images: 60000\n",
            "Total number of test images: 10000\n"
          ]
        }
      ],
      "source": [
        "# For training data\n",
        "train_data_example, train_label_example = mnist_train[0]\n",
        "print(\"Shape of a single training image:\", train_data_example.shape)\n",
        "\n",
        "# For test data\n",
        "test_data_example, test_label_example = mnist_test[0]\n",
        "print(\"Shape of a single test image:\", test_data_example.shape)\n",
        "\n",
        "# The total number of images in each dataset\n",
        "print(\"Total number of training images:\", len(mnist_train))\n",
        "print(\"Total number of test images:\", len(mnist_test))\n"
      ]
    },
    {
      "cell_type": "markdown",
      "metadata": {
        "id": "N1p2zp4ZmAOC"
      },
      "source": [
        "## Recap of classification task\n",
        "\n",
        "In a classification task with $K$ classes, suppose the predicted logits for an image are $s_1, \\cdots, s_K$. The predicted probabilities are then\n",
        "\n",
        "$$\\hat p_i = \\frac{\\exp \\{ s_i\\}}{\\sum_{j=1}^K \\exp \\{s_j\\}}, \\text{ for }i=1:K$$\n",
        "\n",
        "The CrossEntropy (CE) loss is defined as\n",
        "\n",
        "$$CE = - \\sum_{i=1}^K t_i \\log (\\hat p_i)$$\n",
        "\n",
        "where $t_i=1$ if the image belongs to the $i$th class or otherwise $t_i=0$."
      ]
    },
    {
      "cell_type": "markdown",
      "metadata": {
        "id": "aYSHF9pSm5uB"
      },
      "source": [
        "## Model\n",
        "\n",
        "Now, we will build a model to predict the logits of images for the classificaiton task."
      ]
    },
    {
      "cell_type": "markdown",
      "metadata": {
        "id": "fMdSR9k9FTHE"
      },
      "source": [
        "### Question 1: Building the Model\n",
        "\n",
        "In the following, we will write a class for a basic one-hidden-layer, ReLU, feedforward network. There are a few components to a model in Pytorch, and we will break them down step by step.\n",
        "\n",
        "First, we need to define the class. As with any class definition, we start with an `__init__` method. Since Pytorch provides us with many useful features within the [`torch.nn.Module`](https://pytorch.org/docs/stable/generated/torch.nn.Module.html) class, we will use inheritence to pass these down to our `Net` class. This involves putting nn.Module inside the parenthesis in the class definition, and a `super().__init__()` call in the `__init__()` method.\n",
        "\n",
        "Within the initialization, we then define two layers: one hidden layer with 128 neurons, and one output layer with `10` class logits. The hidden layer should take an input of size `28 x 28` and give an output of size `128`, while the output layer takes input of size `128` and gives output of size `10`. It is suggested to use the [`nn.Linear()`](https://pytorch.org/docs/stable/generated/torch.nn.Linear.html) object to accomplish this, which applies a transformation $z = x W^T + b$.\n",
        "\n",
        "Next, we define a special method called `forward(),` which defines how data propagate through the model. This method will be called either by `model.forward(x)` or by `model(x)`, and is where Pytorch looks for the information for its automatic derivative computation capabilities.\n",
        "\n",
        "In the forward method, we first will reshape our image `img` using `img.view()`.\n",
        "\n",
        "Then, we will apply the hidden layer (the one we defined) and the ReLU function `F.relu`.\n",
        "\n",
        "Finally, we apply the output layer and return our output. Importantly, do not apply SoftMax to the output just yet. We will handle that part later"
      ]
    },
    {
      "cell_type": "code",
      "execution_count": 6,
      "metadata": {
        "id": "iRvcSYInFTHF",
        "tags": []
      },
      "outputs": [],
      "source": [
        "class Net(nn.Module):\n",
        "    def __init__(self):\n",
        "        super(Net, self).__init__()\n",
        "        self.hidden_layer = nn.Linear(28*28, 128)  # 784 inputs to 128 neurons\n",
        "        self.output_layer = nn.Linear(128, 10)  # 128 inputs to 10 class logits\n",
        "        ### YOUR CODE HERE ###\n",
        "\n",
        "    def forward(self, img):\n",
        "        x = img.view(-1, 28*28) # reshape the image to be a single row\n",
        "        # pass x through both layers, with ReLU in between\n",
        "        x = F.relu(self.hidden_layer(x))  # Apply ReLU activation\n",
        "        x = self.output_layer(x)  # Output logits\n",
        "\n",
        "        ######################\n",
        "        return x\n",
        "\n",
        "model = Net()"
      ]
    },
    {
      "cell_type": "markdown",
      "metadata": {
        "id": "n3V7Haucmwu1"
      },
      "source": [
        "### Question 2: Defining the Loss and Optimizer\n",
        "\n",
        "When training a `torch` model, typically you need to specify the following two items:\n",
        "\n",
        "- optimizer: specifies a way to apply gradient descent update of model parameters. We will use the [`optim.Adam`](https://pytorch.org/docs/stable/generated/torch.optim.Adam.html) optimizer with a learning rate of 0.001 in this example.\n",
        "\n",
        "- loss_fn: the objective function to minimize over. In classification task, the cross-entropy loss is used.\n",
        "\n",
        "Please fill in the `optimizer` with an appropriate learning rate `lr`, and choose an appropriate number of `epochs` (number of passes through the data) in the following code.\n",
        "\n",
        "Note: remember that the neural network outputs the `logits` instead of the class probabilities (why? answer the question below), and make sure to specify this in the `loss function`.\n"
      ]
    },
    {
      "cell_type": "code",
      "execution_count": 7,
      "metadata": {
        "id": "K5qqPdbQFTHF",
        "tags": []
      },
      "outputs": [],
      "source": [
        "loss_fn = nn.CrossEntropyLoss()\n",
        "### YOUR CODE HERE ###\n",
        "optimizer = optim.Adam(model.parameters(), lr=0.001)\n",
        "######################\n",
        "\n"
      ]
    },
    {
      "cell_type": "markdown",
      "metadata": {
        "id": "7tohEZ0q7uUl"
      },
      "source": [
        "### Question 3: The neural network specified above does not output class probabilities, because the last layer of the neural network is a linear layer which outputs value ranging from $(-\\infty, \\infty)$.  Your choice of loss function above should take care of that, but what _mathematical_ function maps these logit values to class probabilities?\n",
        "\n",
        "#######################\n",
        "###### YOUR ANSWER HERE\n",
        "\n",
        "\n",
        "\n",
        "\n",
        "#######################"
      ]
    },
    {
      "cell_type": "markdown",
      "source": [
        "Softmax Function\n",
        "The Softmax function maps logits (values in the range\n",
        "(\n",
        "−\n",
        "∞\n",
        ",\n",
        "∞\n",
        ")\n",
        "(−∞,∞)) to class probabilities. For\n",
        "𝐾\n",
        "K classes, the probability for class\n",
        "𝑖\n",
        "i is calculated as:\n",
        "\n",
        "𝑝\n",
        "𝑖\n",
        "=\n",
        "exp\n",
        "⁡\n",
        "(\n",
        "𝑠\n",
        "𝑖\n",
        ")\n",
        "∑\n",
        "𝑗\n",
        "=\n",
        "1\n",
        "𝐾\n",
        "exp\n",
        "⁡\n",
        "(\n",
        "𝑠\n",
        "𝑗\n",
        ")\n",
        "p\n",
        "i\n",
        "​\n",
        " =\n",
        "∑\n",
        "j=1\n",
        "K\n",
        "​\n",
        " exp(s\n",
        "j\n",
        "​\n",
        " )\n",
        "exp(s\n",
        "i\n",
        "​\n",
        " )\n",
        "​\n",
        "\n",
        "Where:\n",
        "\n",
        "𝑠\n",
        "𝑖\n",
        "s\n",
        "i\n",
        "​\n",
        "  is the logit value for class\n",
        "𝑖\n",
        "i,\n",
        "exp\n",
        "⁡\n",
        "(\n",
        "𝑠\n",
        "𝑖\n",
        ")\n",
        "exp(s\n",
        "i\n",
        "​\n",
        " ) is the exponential of the logit,\n",
        "∑\n",
        "𝑗\n",
        "=\n",
        "1\n",
        "𝐾\n",
        "exp\n",
        "⁡\n",
        "(\n",
        "𝑠\n",
        "𝑗\n",
        ")\n",
        "∑\n",
        "j=1\n",
        "K\n",
        "​\n",
        " exp(s\n",
        "j\n",
        "​\n",
        " ) is the sum of the exponentials of all logits."
      ],
      "metadata": {
        "id": "dy7eCi7jI9gx"
      }
    },
    {
      "cell_type": "markdown",
      "source": [
        "### Softmax Function\n",
        "\n",
        "The **Softmax function** maps logits (values in the range \\( (-\\infty, \\infty) \\)) to class probabilities. For \\( K \\) classes, the probability for class \\( i \\) is calculated as:\n",
        "\n",
        "\\[\n",
        "p_i = \\frac{\\exp(s_i)}{\\sum_{j=1}^{K} \\exp(s_j)}\n",
        "\\]\n",
        "\n",
        "Where:\n",
        "- \\( s_i \\) is the logit value for class \\( i \\),\n",
        "- \\( \\exp(s_i) \\) is the exponential of the logit,\n",
        "- \\( \\sum_{j=1}^{K} \\exp(s_j) \\) is the sum of the exponentials of all logits.\n",
        "\n",
        "---\n",
        "\n",
        "### Why Softmax is Not Applied Directly in the Model\n",
        "\n",
        "The Softmax function is not applied directly in the last layer of the model because:\n",
        "1. **Numerical Stability**: The `CrossEntropyLoss` function combines the Softmax operation and the negative log-likelihood calculation in a numerically stable way.\n",
        "2. **Efficiency**: Avoids redundant computations during training.\n",
        "\n",
        "Instead, the model outputs logits, which are passed directly to `CrossEntropyLoss`.\n",
        "\n",
        "---\n",
        "\n",
        "### Summary\n",
        "\n",
        "The **Softmax function** is the mathematical operation that maps logits to class probabilities in classification tasks, ensuring that probabilities are non-negative and sum to 1.\n"
      ],
      "metadata": {
        "id": "FC2R0XUcHjRC"
      }
    },
    {
      "cell_type": "markdown",
      "metadata": {
        "id": "c-H7Wca-nakt"
      },
      "source": [
        "## Training\n",
        "\n",
        "Now let's train the model for your chosen number of epochs. By the end of the training, you should expect an accuracy above 0.98.\n",
        "\n",
        "In each step, we need to:\n",
        "\n",
        "1.) grab `x` and `y` from the batch (note that each batch is a tuple of `x` and `y`)\n",
        "\n",
        "2.) zero the optimizer's gradients\n",
        "\n",
        "3.) make a prediction `y_pred`\n",
        "\n",
        "4.) call the `loss_fn` between `y` and `y_pred`\n",
        "\n",
        "5.) backpropagate\n",
        "\n",
        "6.) make the approprite step calculated by the `optimizer`"
      ]
    },
    {
      "cell_type": "code",
      "execution_count": 8,
      "metadata": {
        "colab": {
          "base_uri": "https://localhost:8080/",
          "height": 0
        },
        "id": "jCsIvUUVlEAA",
        "outputId": "21af71de-b398-4659-ea12-ce3bed70f316",
        "tags": []
      },
      "outputs": [
        {
          "output_type": "stream",
          "name": "stdout",
          "text": [
            "Epoch 1/10, Loss: 0.3562, Accuracy: 0.8947\n",
            "Epoch 2/10, Loss: 0.1776, Accuracy: 0.9463\n",
            "Epoch 3/10, Loss: 0.1345, Accuracy: 0.9596\n",
            "Epoch 4/10, Loss: 0.1113, Accuracy: 0.9659\n",
            "Epoch 5/10, Loss: 0.0964, Accuracy: 0.9700\n",
            "Epoch 6/10, Loss: 0.0868, Accuracy: 0.9726\n",
            "Epoch 7/10, Loss: 0.0768, Accuracy: 0.9755\n",
            "Epoch 8/10, Loss: 0.0722, Accuracy: 0.9764\n",
            "Epoch 9/10, Loss: 0.0685, Accuracy: 0.9784\n",
            "Epoch 10/10, Loss: 0.0616, Accuracy: 0.9800\n"
          ]
        }
      ],
      "source": [
        "epochs = 10\n",
        "\n",
        "for epoch in range(epochs):\n",
        "    losses = []\n",
        "    accuracies = []\n",
        "    for batch in train_loader:\n",
        "        x_batch, y_batch = batch\n",
        "        optimizer.zero_grad()  # Zero the gradients\n",
        "        y_pred = model(x_batch)  # Forward pass\n",
        "        loss = loss_fn(y_pred, y_batch)  # Compute loss\n",
        "        loss.backward()  # Backpropagation\n",
        "        optimizer.step()  # Update weights\n",
        "\n",
        "        # Calculate accuracy\n",
        "        _, y_pred_labels = torch.max(y_pred, 1)\n",
        "        correct = (y_pred_labels == y_batch).sum().item()\n",
        "        total = y_batch.size(0)\n",
        "        accuracies.append(correct / total)\n",
        "        losses.append(loss.item())\n",
        "\n",
        "    avg_loss = np.mean(losses)\n",
        "    avg_accuracy = np.mean(accuracies)\n",
        "    print(f'Epoch {epoch+1}/{epochs}, Loss: {avg_loss:.4f}, Accuracy: {avg_accuracy:.4f}')"
      ]
    },
    {
      "cell_type": "markdown",
      "metadata": {
        "id": "Ez2L6AmplHtE"
      },
      "source": [
        "## Test Evaluation\n",
        "\n",
        "Finally, we evaluate our model on the test set. You could expect the test accuracy to be slightly lower than the training accuracy."
      ]
    },
    {
      "cell_type": "code",
      "execution_count": 9,
      "metadata": {
        "colab": {
          "base_uri": "https://localhost:8080/",
          "height": 0
        },
        "id": "obLm4idVlIQx",
        "outputId": "23ef2a73-a327-4a9b-e434-2c7068fe565d"
      },
      "outputs": [
        {
          "output_type": "stream",
          "name": "stdout",
          "text": [
            "testing accuracy: 0.9742\n"
          ]
        }
      ],
      "source": [
        "with torch.no_grad():\n",
        "    correct = 0\n",
        "    total = 0\n",
        "    for batch in test_loader:\n",
        "        x_batch, y_batch = batch\n",
        "        y_logit = model(x_batch)\n",
        "        for index, output in enumerate(y_logit):\n",
        "            y_pred = torch.argmax(output)\n",
        "            if y_pred == y_batch[index]:\n",
        "                correct += 1\n",
        "            total += 1\n",
        "\n",
        "print('testing accuracy:', correct/total)"
      ]
    },
    {
      "cell_type": "markdown",
      "metadata": {
        "id": "vta0K8K68-BV"
      },
      "source": [
        "### Make Prediction"
      ]
    },
    {
      "cell_type": "markdown",
      "metadata": {
        "id": "nN3zdNTU_SPe"
      },
      "source": [
        "#### Question 4: fill in the following code block to estimate class probabilities and make predictions on test images. The results should be stored in `class_probabilities` and `predicted_labels`. Compare to the true labels, stored in `true_labels` by computing the accuracy. It should be the same as above.\n",
        "\n",
        "#### (Hint: you can use much of the same structure from the cell above. You can use `F.softmax` to calculate probabilities from the logits, and store the results however you please.)"
      ]
    },
    {
      "cell_type": "code",
      "execution_count": 11,
      "metadata": {
        "colab": {
          "base_uri": "https://localhost:8080/",
          "height": 0
        },
        "id": "YZeBzWcLQVFA",
        "outputId": "f97ccbe5-6a92-4196-bfd1-8448274c9b61"
      },
      "outputs": [
        {
          "output_type": "stream",
          "name": "stdout",
          "text": [
            "accuracy verification:  0.9742\n"
          ]
        }
      ],
      "source": [
        "### YOUR CODE HERE ###\n",
        "\n",
        "with torch.no_grad():\n",
        "    class_probabilities = []\n",
        "    predicted_labels = []\n",
        "    true_labels = []\n",
        "\n",
        "    for x_batch, y_batch in test_loader:\n",
        "        y_logit = model(x_batch)  # Forward pass\n",
        "        probabilities = F.softmax(y_logit, dim=1)  # Compute probabilities\n",
        "        _, predictions = torch.max(probabilities, 1)  # Get predicted labels\n",
        "\n",
        "        # Extend lists with NumPy arrays for compatibility\n",
        "        class_probabilities.extend(probabilities.numpy())  # Convert to NumPy\n",
        "        predicted_labels.extend(predictions.numpy())  # Convert to NumPy\n",
        "        true_labels.extend(y_batch.numpy())  # Convert to NumPy\n",
        "\n",
        "# Make sure true_labels and predicted_labels are NumPy arrays\n",
        "true_labels = np.array(true_labels)\n",
        "predicted_labels = np.array(predicted_labels)\n",
        "\n",
        "########################\n",
        "print('accuracy verification: ', sum(true_labels==predicted_labels)/len(true_labels))"
      ]
    }
  ],
  "metadata": {
    "colab": {
      "provenance": [],
      "include_colab_link": true
    },
    "kernelspec": {
      "display_name": "Python 3 (ipykernel)",
      "language": "python",
      "name": "python3"
    },
    "language_info": {
      "codemirror_mode": {
        "name": "ipython",
        "version": 3
      },
      "file_extension": ".py",
      "mimetype": "text/x-python",
      "name": "python",
      "nbconvert_exporter": "python",
      "pygments_lexer": "ipython3",
      "version": "3.10.4"
    }
  },
  "nbformat": 4,
  "nbformat_minor": 0
}